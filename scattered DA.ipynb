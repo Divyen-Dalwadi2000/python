{
 "cells": [
  {
   "cell_type": "markdown",
   "id": "d3d4d514",
   "metadata": {},
   "source": [
    "# Class Room Practice"
   ]
  },
  {
   "cell_type": "code",
   "execution_count": 1,
   "id": "6650dd2a",
   "metadata": {},
   "outputs": [],
   "source": [
    "import numpy as np\n",
    "import matplotlib.pyplot as pyplot\n",
    "import pandas as pd\n",
    "\n",
    "dict = {\n",
    "    \"xi\" : [2,6,8,8,12,16,20,20,22,26],\n",
    "\"yi\" : [58,105,88,118,117,137,157,169,149,202]\n",
    "}\n",
    "\n",
    "df = pd.DataFrame(dict)\n"
   ]
  },
  {
   "cell_type": "code",
   "execution_count": 2,
   "id": "5becb47a",
   "metadata": {},
   "outputs": [],
   "source": [
    "xMean = df[\"xi\"].mean()\n",
    "yMean = df[\"yi\"].mean()"
   ]
  },
  {
   "cell_type": "code",
   "execution_count": 3,
   "id": "16ccd6ea",
   "metadata": {},
   "outputs": [],
   "source": [
    "xi_xMean = []\n",
    "yi_yMean = []\n",
    "\n",
    "for x in df[\"xi\"]:\n",
    "    xi_xMean.append(x - xMean)\n",
    "    \n",
    "for y in df[\"yi\"]:\n",
    "    yi_yMean.append(y - yMean)\n",
    "    \n",
    "df[\"xi_xMean\"] = xi_xMean\n",
    "df[\"yi_yMean\"] = yi_yMean"
   ]
  },
  {
   "cell_type": "code",
   "execution_count": 4,
   "id": "5d0803bd",
   "metadata": {},
   "outputs": [],
   "source": [
    "product = []\n",
    "\n",
    "for x in range(len(df[\"xi\"])):\n",
    "    product.append(df[\"xi_xMean\"][x] * df[\"yi_yMean\"][x])\n",
    "\n",
    "df[\"product\"] = product"
   ]
  },
  {
   "cell_type": "code",
   "execution_count": 5,
   "id": "cbc2f079",
   "metadata": {},
   "outputs": [],
   "source": [
    "sq = []\n",
    "\n",
    "for x in  df[\"xi_xMean\"]:\n",
    "    sq.append(x * x)\n",
    "    \n",
    "df[\"square\"] = sq"
   ]
  },
  {
   "cell_type": "code",
   "execution_count": 6,
   "id": "1c10727c",
   "metadata": {},
   "outputs": [
    {
     "name": "stdout",
     "output_type": "stream",
     "text": [
      "5.0\n"
     ]
    }
   ],
   "source": [
    "print(np.sum(df[\"product\"]) / np.sum(df[\"square\"]))"
   ]
  }
 ],
 "metadata": {
  "kernelspec": {
   "display_name": "Python 3 (ipykernel)",
   "language": "python",
   "name": "python3"
  },
  "language_info": {
   "codemirror_mode": {
    "name": "ipython",
    "version": 3
   },
   "file_extension": ".py",
   "mimetype": "text/x-python",
   "name": "python",
   "nbconvert_exporter": "python",
   "pygments_lexer": "ipython3",
   "version": "3.9.12"
  }
 },
 "nbformat": 4,
 "nbformat_minor": 5
}
