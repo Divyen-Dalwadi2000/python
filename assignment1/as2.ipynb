{
 "cells": [
  {
   "cell_type": "code",
   "execution_count": 4,
   "id": "650ee52b",
   "metadata": {},
   "outputs": [
    {
     "name": "stdout",
     "output_type": "stream",
     "text": [
      "    IQR\n",
      "0     5\n",
      "1     6\n",
      "2     7\n",
      "3    13\n",
      "4    43\n",
      "5    45\n",
      "6    46\n",
      "7    55\n",
      "8    56\n",
      "9    60\n",
      "10   61\n",
      "11   62\n",
      "12   65\n",
      "13   66\n",
      "14   66\n",
      "15   67\n",
      "16   90\n",
      "17  100\n",
      "18  104\n",
      "19  132\n"
     ]
    }
   ],
   "source": [
    "import pandas as pd\n",
    "import math\n",
    "df= pd.read_csv('iqr.csv')\n",
    "print(df)"
   ]
  },
  {
   "cell_type": "code",
   "execution_count": 6,
   "id": "be3525d9",
   "metadata": {},
   "outputs": [
    {
     "name": "stdout",
     "output_type": "stream",
     "text": [
      "no. of element = 20\n"
     ]
    }
   ],
   "source": [
    "length = df.shape[0]\n",
    "\n",
    "print(\"no. of element =\", length)\n"
   ]
  },
  {
   "cell_type": "code",
   "execution_count": 7,
   "id": "8130b010",
   "metadata": {},
   "outputs": [
    {
     "name": "stdout",
     "output_type": "stream",
     "text": [
      "Q1 position = 5\n",
      "Q1 position = 15\n",
      "Q1 = 44.0\n",
      "Q3 = 66.5\n"
     ]
    }
   ],
   "source": [
    "\n",
    "i1 = (25 / 100) * length\n",
    "\n",
    "i3 = (75 / 100) * length\n",
    "\n",
    "if i1 % 1 == 0:\n",
    "    i1 = int(i1)\n",
    "    q1 = (df.iat[i1 - 1, 0] + df.iat[i1, 0]) / 2\n",
    "else:\n",
    "    i1 = int(math.ceil(i1))\n",
    "    q1 = df.iat[i1 - 1, 0]\n",
    "\n",
    "\n",
    "if i3 % 1 == 0:\n",
    "    i3 = int(i3)\n",
    "    q3 = (df.iat[i3 - 1, 0] + df.iat[i3, 0]) / 2\n",
    "else:\n",
    "    i3 = int(math.ceil(i3))\n",
    "    q3 = df.iat[i3 - 1, 0]\n",
    "\n",
    "print(\"Q1 position =\", i1)\n",
    "print(\"Q1 position =\", i3)\n",
    "print(\"Q1 =\", q1)\n",
    "print(\"Q3 =\", q3)"
   ]
  },
  {
   "cell_type": "code",
   "execution_count": 8,
   "id": "6a27a67a",
   "metadata": {},
   "outputs": [
    {
     "name": "stdout",
     "output_type": "stream",
     "text": [
      "Upper bound = 100.25 Lower bound = 10.25\n",
      "dataset after removing outlier : [13, 43, 45, 46, 55, 56, 60, 61, 62, 65, 66, 66, 67, 90, 100]\n",
      "Outlier [5, 6, 7, 104, 132]\n"
     ]
    }
   ],
   "source": [
    "iqr = q3 - q1\n",
    "lb = q1 - (iqr * 1.5)\n",
    "ub = q3 + (iqr * 1.5)\n",
    "print(\"Upper bound =\", ub, \"Lower bound =\", lb)\n",
    "data = []\n",
    "OUTl = []\n",
    "\n",
    "for i in range(length):\n",
    "    if df.iat[i, 0] > lb and df.iat[i, 0] < ub:\n",
    "        data.append(df.iat[i, 0])\n",
    "    else:\n",
    "        OUTl.append(df.iat[i, 0])\n",
    "print(\"dataset after removing outlier :\", data)\n",
    "print(\"Outlier\", OUTl)\n"
   ]
  }
 ],
 "metadata": {
  "kernelspec": {
   "display_name": "Python 3 (ipykernel)",
   "language": "python",
   "name": "python3"
  },
  "language_info": {
   "codemirror_mode": {
    "name": "ipython",
    "version": 3
   },
   "file_extension": ".py",
   "mimetype": "text/x-python",
   "name": "python",
   "nbconvert_exporter": "python",
   "pygments_lexer": "ipython3",
   "version": "3.11.2"
  }
 },
 "nbformat": 4,
 "nbformat_minor": 5
}
